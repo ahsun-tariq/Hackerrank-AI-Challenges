{
 "cells": [
  {
   "cell_type": "raw",
   "metadata": {},
   "source": [
    "In this version of \"Bot saves princess\", Princess Peach and bot's position are randomly set. Can you save the princess?\n",
    "\n",
    "Task\n",
    "\n",
    "Complete the function nextMove which takes in 4 parameters - an integer N, integers r and c indicating the row & column position of the bot and the character array grid - and outputs the next move the bot makes to rescue the princess.\n",
    "\n",
    "Input Format\n",
    "\n",
    "The first line of the input is N (<100), the size of the board (NxN). The second line of the input contains two space separated integers, which is the position of the bot.\n",
    "\n",
    "Grid is indexed using Matrix Convention\n",
    "\n",
    "The position of the princess is indicated by the character 'p' and the position of the bot is indicated by the character 'm' and each cell is denoted by '-' (ascii value: 45).\n",
    "\n",
    "Output Format\n",
    "\n",
    "Output only the next move you take to rescue the princess. Valid moves are LEFT, RIGHT, UP or DOWN\n",
    "\n",
    "Sample Input\n",
    "\n",
    "5\n",
    "2 3\n",
    "-----\n",
    "-----\n",
    "p--m-\n",
    "-----\n",
    "-----\n",
    "Sample Output\n",
    "\n",
    "LEFT\n",
    "Resultant State\n",
    "\n",
    "-----\n",
    "-----\n",
    "p-m--\n",
    "-----\n",
    "-----\n",
    "Explanation\n",
    "\n",
    "As you can see, bot is one step closer to the princess.\n",
    "\n",
    "Scoring\n",
    "Your score for every testcase would be (NxN minus number of moves made to rescue the princess)/10 where N is the size of the grid (5x5 in the sample testcase). Maximum score is 17.5"
   ]
  },
  {
   "cell_type": "code",
   "execution_count": 7,
   "metadata": {},
   "outputs": [
    {
     "name": "stdout",
     "output_type": "stream",
     "text": [
      "5\n",
      "4 4\n",
      "4 4\n",
      "-----\n",
      "-----\n",
      "--p--\n",
      "-----\n",
      "----m\n",
      "['-----', '-----', '--p--', '-----', '----m']\n",
      "2 2\n",
      "UP\n"
     ]
    }
   ],
   "source": [
    "def nextMove(n,r,c,grid):\n",
    "    pr = 0\n",
    "    pc =0\n",
    "    for i,row in enumerate(grid):\n",
    "        if \"p\" in row:\n",
    "            pr = i\n",
    "            pc = row.index(\"p\")\n",
    "#     print(pr,pc)\n",
    "    \n",
    "    if pr > r:\n",
    "        return \"DOWN\"\n",
    "    elif pr < r:\n",
    "        return \"UP\"\n",
    "    elif pr==r:\n",
    "        if(pc > c):\n",
    "            return (\"RIGHT\")\n",
    "        else:\n",
    "            return(\"LEFT\")\n",
    "        \n",
    "    return \"\"\n",
    "\n",
    "n = int(input())\n",
    "r,c = [int(i) for i in input().strip().split()]\n",
    "# print(r,c)\n",
    "grid = []\n",
    "for i in range(0, n):\n",
    "    grid.append(input())\n",
    "# print(grid)\n",
    "print(nextMove(n,r,c,grid))\n"
   ]
  }
 ],
 "metadata": {
  "kernelspec": {
   "display_name": "Python 3",
   "language": "python",
   "name": "python3"
  },
  "language_info": {
   "codemirror_mode": {
    "name": "ipython",
    "version": 3
   },
   "file_extension": ".py",
   "mimetype": "text/x-python",
   "name": "python",
   "nbconvert_exporter": "python",
   "pygments_lexer": "ipython3",
   "version": "3.7.6"
  }
 },
 "nbformat": 4,
 "nbformat_minor": 4
}
